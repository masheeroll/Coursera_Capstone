{
 "cells": [
  {
   "cell_type": "markdown",
   "metadata": {},
   "source": [
    "# Applied Data Science Capstone"
   ]
  },
  {
   "cell_type": "markdown",
   "metadata": {},
   "source": [
    "## 1) Introduction/Business Problem"
   ]
  },
  {
   "cell_type": "markdown",
   "metadata": {},
   "source": [
    "Food is everyone's favorite. You will travel anywhere to have a glimpse of taste for other culture or cuisine food. What if you are a migrant who lived in other country and missed your hometown food? \n",
    "\n",
    "The aim of this project is to find the best location to open a new Indian Restaurant in Toronto to laverage the ethnicity of India cusine in Toronto.\n",
    "\n",
    "The aim of this project is to find the best location to open a new Indian Restaurant in Toronto to laverage the ethnicity of India cusine in Toronto. This way, more people can enjoy food from India and business can have less competition around."
   ]
  },
  {
   "cell_type": "markdown",
   "metadata": {},
   "source": [
    "# 2) Downloading and Prepping Data"
   ]
  },
  {
   "cell_type": "markdown",
   "metadata": {},
   "source": [
    "To provide the stakeholders the necessary information I'll be using Toronto Neighborhoode and Foursquare API to collect competitors on the same neighborhoods.\n",
    "\n",
    "Toronto Neighbourhood Data:\n",
    "https://en.wikipedia.org/wiki/List_of_postal_codes_of_Canada:_M\n",
    "\n"
   ]
  },
  {
   "cell_type": "markdown",
   "metadata": {},
   "source": [
    "# 3) Methodology"
   ]
  },
  {
   "cell_type": "markdown",
   "metadata": {},
   "source": [
    "First, I use map from Toronto and Foursquare API to find the Indian Restaurant around 100km around the area. Then, I split the data into 3 cluster. Run k-means to cluster the neighborhoods in Toronto into 3 clusters and evaluate the value. If the K-mean is close to 0 means there are no Indian restaurant around but if the K-mean close to 1 means there are Indian restaurant around."
   ]
  },
  {
   "cell_type": "markdown",
   "metadata": {},
   "source": [
    "# 4) Result"
   ]
  },
  {
   "cell_type": "markdown",
   "metadata": {},
   "source": [
    "The results from k-means clustering show that we can categorize Toronto neighborhoods into 3 clusters based on how many Indian restaurants are in each neighborhood:\n",
    "\n",
    "Cluster 0: Neighborhoods with high number of Indian restaurants, Cluster 1: Neighborhoods with no Indian restaurants, Cluster 2: Neighborhoods with little or no Indian restaurants\n",
    "\n",
    "Hence, We can open Indian Restaurant location Cluster 1 Richmond, Adelaide, King because there are no competition there."
   ]
  },
  {
   "cell_type": "markdown",
   "metadata": {},
   "source": [
    "# 5) Discussion"
   ]
  },
  {
   "cell_type": "markdown",
   "metadata": {},
   "source": [
    "When I first decided to create this study I was expecting to find clusters of restaurants in certain regions and the final result didn't meet that expectation."
   ]
  },
  {
   "cell_type": "markdown",
   "metadata": {},
   "source": [
    "# 6) Conclusion"
   ]
  },
  {
   "cell_type": "markdown",
   "metadata": {},
   "source": [
    "This report maybe useful for those who wants to open restaurant in Toronto.Using data science model, we can target the best place and reduce bankruptcy and competition"
   ]
  },
  {
   "cell_type": "code",
   "execution_count": null,
   "metadata": {},
   "outputs": [],
   "source": []
  }
 ],
 "metadata": {
  "kernelspec": {
   "display_name": "Python 3",
   "language": "python",
   "name": "python3"
  },
  "language_info": {
   "codemirror_mode": {
    "name": "ipython",
    "version": 3
   },
   "file_extension": ".py",
   "mimetype": "text/x-python",
   "name": "python",
   "nbconvert_exporter": "python",
   "pygments_lexer": "ipython3",
   "version": "3.7.4"
  }
 },
 "nbformat": 4,
 "nbformat_minor": 2
}
